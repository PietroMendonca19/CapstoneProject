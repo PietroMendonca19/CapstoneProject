{
 "cells": [
  {
   "cell_type": "markdown",
   "metadata": {},
   "source": [
    "<p style=\"text-align:center\">\n",
    "    <a href=\"https://skills.network\" target=\"_blank\">\n",
    "    <img src=\"https://cf-courses-data.s3.us.cloud-object-storage.appdomain.cloud/assets/logos/SN_web_lightmode.png\" width=\"200\" alt=\"Skills Network Logo\"  />\n",
    "    </a>\n",
    "</p>\n"
   ]
  },
  {
   "cell_type": "markdown",
   "metadata": {},
   "source": [
    "# **Data Wrangling Lab**\n"
   ]
  },
  {
   "cell_type": "markdown",
   "metadata": {},
   "source": [
    "Estimated time needed: **45** minutes\n"
   ]
  },
  {
   "cell_type": "markdown",
   "metadata": {},
   "source": [
    "In this lab, you will perform data wrangling tasks to prepare raw data for analysis. Data wrangling involves cleaning, transforming, and organizing data into a structured format suitable for analysis. This lab focuses on tasks like identifying inconsistencies, encoding categorical variables, and feature transformation.\n"
   ]
  },
  {
   "cell_type": "markdown",
   "metadata": {},
   "source": [
    "## Objectives\n"
   ]
  },
  {
   "cell_type": "markdown",
   "metadata": {},
   "source": [
    "After completing this lab, you will be able to:\n"
   ]
  },
  {
   "cell_type": "markdown",
   "metadata": {},
   "source": [
    "- Identify and remove inconsistent data entries.\n",
    "\n",
    "- Encode categorical variables for analysis.\n",
    "\n",
    "- Handle missing values using multiple imputation strategies.\n",
    "\n",
    "- Apply feature scaling and transformation techniques.\n"
   ]
  },
  {
   "cell_type": "markdown",
   "metadata": {},
   "source": [
    "#### Intsall the required libraries\n"
   ]
  },
  {
   "cell_type": "code",
   "execution_count": 1,
   "metadata": {},
   "outputs": [
    {
     "name": "stdout",
     "output_type": "stream",
     "text": [
      "Requirement already satisfied: pandas in /opt/conda/lib/python3.12/site-packages (2.2.3)\n",
      "Requirement already satisfied: numpy>=1.26.0 in /opt/conda/lib/python3.12/site-packages (from pandas) (2.2.5)\n",
      "Requirement already satisfied: python-dateutil>=2.8.2 in /opt/conda/lib/python3.12/site-packages (from pandas) (2.9.0.post0)\n",
      "Requirement already satisfied: pytz>=2020.1 in /opt/conda/lib/python3.12/site-packages (from pandas) (2024.2)\n",
      "Requirement already satisfied: tzdata>=2022.7 in /opt/conda/lib/python3.12/site-packages (from pandas) (2025.2)\n",
      "Requirement already satisfied: six>=1.5 in /opt/conda/lib/python3.12/site-packages (from python-dateutil>=2.8.2->pandas) (1.17.0)\n",
      "Requirement already satisfied: matplotlib in /opt/conda/lib/python3.12/site-packages (3.10.1)\n",
      "Requirement already satisfied: contourpy>=1.0.1 in /opt/conda/lib/python3.12/site-packages (from matplotlib) (1.3.2)\n",
      "Requirement already satisfied: cycler>=0.10 in /opt/conda/lib/python3.12/site-packages (from matplotlib) (0.12.1)\n",
      "Requirement already satisfied: fonttools>=4.22.0 in /opt/conda/lib/python3.12/site-packages (from matplotlib) (4.57.0)\n",
      "Requirement already satisfied: kiwisolver>=1.3.1 in /opt/conda/lib/python3.12/site-packages (from matplotlib) (1.4.8)\n",
      "Requirement already satisfied: numpy>=1.23 in /opt/conda/lib/python3.12/site-packages (from matplotlib) (2.2.5)\n",
      "Requirement already satisfied: packaging>=20.0 in /opt/conda/lib/python3.12/site-packages (from matplotlib) (24.2)\n",
      "Requirement already satisfied: pillow>=8 in /opt/conda/lib/python3.12/site-packages (from matplotlib) (11.2.1)\n",
      "Requirement already satisfied: pyparsing>=2.3.1 in /opt/conda/lib/python3.12/site-packages (from matplotlib) (3.2.3)\n",
      "Requirement already satisfied: python-dateutil>=2.7 in /opt/conda/lib/python3.12/site-packages (from matplotlib) (2.9.0.post0)\n",
      "Requirement already satisfied: six>=1.5 in /opt/conda/lib/python3.12/site-packages (from python-dateutil>=2.7->matplotlib) (1.17.0)\n"
     ]
    }
   ],
   "source": [
    "!pip install pandas\n",
    "!pip install matplotlib"
   ]
  },
  {
   "cell_type": "markdown",
   "metadata": {},
   "source": [
    "## Tasks\n"
   ]
  },
  {
   "cell_type": "markdown",
   "metadata": {},
   "source": [
    "#### Step 1: Import the necessary module.\n"
   ]
  },
  {
   "cell_type": "markdown",
   "metadata": {},
   "source": [
    "### 1. Load the Dataset\n"
   ]
  },
  {
   "cell_type": "markdown",
   "metadata": {},
   "source": [
    "<h5>1.1 Import necessary libraries and load the dataset.</h5>\n"
   ]
  },
  {
   "cell_type": "markdown",
   "metadata": {},
   "source": [
    "Ensure the dataset is loaded correctly by displaying the first few rows.\n"
   ]
  },
  {
   "cell_type": "code",
   "execution_count": 2,
   "metadata": {},
   "outputs": [
    {
     "data": {
      "text/html": [
       "<div>\n",
       "<style scoped>\n",
       "    .dataframe tbody tr th:only-of-type {\n",
       "        vertical-align: middle;\n",
       "    }\n",
       "\n",
       "    .dataframe tbody tr th {\n",
       "        vertical-align: top;\n",
       "    }\n",
       "\n",
       "    .dataframe thead th {\n",
       "        text-align: right;\n",
       "    }\n",
       "</style>\n",
       "<table border=\"1\" class=\"dataframe\">\n",
       "  <thead>\n",
       "    <tr style=\"text-align: right;\">\n",
       "      <th></th>\n",
       "      <th>ResponseId</th>\n",
       "      <th>MainBranch</th>\n",
       "      <th>Age</th>\n",
       "      <th>Employment</th>\n",
       "      <th>RemoteWork</th>\n",
       "      <th>Check</th>\n",
       "      <th>CodingActivities</th>\n",
       "      <th>EdLevel</th>\n",
       "      <th>LearnCode</th>\n",
       "      <th>LearnCodeOnline</th>\n",
       "      <th>...</th>\n",
       "      <th>JobSatPoints_6</th>\n",
       "      <th>JobSatPoints_7</th>\n",
       "      <th>JobSatPoints_8</th>\n",
       "      <th>JobSatPoints_9</th>\n",
       "      <th>JobSatPoints_10</th>\n",
       "      <th>JobSatPoints_11</th>\n",
       "      <th>SurveyLength</th>\n",
       "      <th>SurveyEase</th>\n",
       "      <th>ConvertedCompYearly</th>\n",
       "      <th>JobSat</th>\n",
       "    </tr>\n",
       "  </thead>\n",
       "  <tbody>\n",
       "    <tr>\n",
       "      <th>0</th>\n",
       "      <td>1</td>\n",
       "      <td>I am a developer by profession</td>\n",
       "      <td>Under 18 years old</td>\n",
       "      <td>Employed, full-time</td>\n",
       "      <td>Remote</td>\n",
       "      <td>Apples</td>\n",
       "      <td>Hobby</td>\n",
       "      <td>Primary/elementary school</td>\n",
       "      <td>Books / Physical media</td>\n",
       "      <td>NaN</td>\n",
       "      <td>...</td>\n",
       "      <td>NaN</td>\n",
       "      <td>NaN</td>\n",
       "      <td>NaN</td>\n",
       "      <td>NaN</td>\n",
       "      <td>NaN</td>\n",
       "      <td>NaN</td>\n",
       "      <td>NaN</td>\n",
       "      <td>NaN</td>\n",
       "      <td>NaN</td>\n",
       "      <td>NaN</td>\n",
       "    </tr>\n",
       "    <tr>\n",
       "      <th>1</th>\n",
       "      <td>2</td>\n",
       "      <td>I am a developer by profession</td>\n",
       "      <td>35-44 years old</td>\n",
       "      <td>Employed, full-time</td>\n",
       "      <td>Remote</td>\n",
       "      <td>Apples</td>\n",
       "      <td>Hobby;Contribute to open-source projects;Other...</td>\n",
       "      <td>Bachelor’s degree (B.A., B.S., B.Eng., etc.)</td>\n",
       "      <td>Books / Physical media;Colleague;On the job tr...</td>\n",
       "      <td>Technical documentation;Blogs;Books;Written Tu...</td>\n",
       "      <td>...</td>\n",
       "      <td>0.0</td>\n",
       "      <td>0.0</td>\n",
       "      <td>0.0</td>\n",
       "      <td>0.0</td>\n",
       "      <td>0.0</td>\n",
       "      <td>0.0</td>\n",
       "      <td>NaN</td>\n",
       "      <td>NaN</td>\n",
       "      <td>NaN</td>\n",
       "      <td>NaN</td>\n",
       "    </tr>\n",
       "    <tr>\n",
       "      <th>2</th>\n",
       "      <td>3</td>\n",
       "      <td>I am a developer by profession</td>\n",
       "      <td>45-54 years old</td>\n",
       "      <td>Employed, full-time</td>\n",
       "      <td>Remote</td>\n",
       "      <td>Apples</td>\n",
       "      <td>Hobby;Contribute to open-source projects;Other...</td>\n",
       "      <td>Master’s degree (M.A., M.S., M.Eng., MBA, etc.)</td>\n",
       "      <td>Books / Physical media;Colleague;On the job tr...</td>\n",
       "      <td>Technical documentation;Blogs;Books;Written Tu...</td>\n",
       "      <td>...</td>\n",
       "      <td>NaN</td>\n",
       "      <td>NaN</td>\n",
       "      <td>NaN</td>\n",
       "      <td>NaN</td>\n",
       "      <td>NaN</td>\n",
       "      <td>NaN</td>\n",
       "      <td>Appropriate in length</td>\n",
       "      <td>Easy</td>\n",
       "      <td>NaN</td>\n",
       "      <td>NaN</td>\n",
       "    </tr>\n",
       "    <tr>\n",
       "      <th>3</th>\n",
       "      <td>4</td>\n",
       "      <td>I am learning to code</td>\n",
       "      <td>18-24 years old</td>\n",
       "      <td>Student, full-time</td>\n",
       "      <td>NaN</td>\n",
       "      <td>Apples</td>\n",
       "      <td>NaN</td>\n",
       "      <td>Some college/university study without earning ...</td>\n",
       "      <td>Other online resources (e.g., videos, blogs, f...</td>\n",
       "      <td>Stack Overflow;How-to videos;Interactive tutorial</td>\n",
       "      <td>...</td>\n",
       "      <td>NaN</td>\n",
       "      <td>NaN</td>\n",
       "      <td>NaN</td>\n",
       "      <td>NaN</td>\n",
       "      <td>NaN</td>\n",
       "      <td>NaN</td>\n",
       "      <td>Too long</td>\n",
       "      <td>Easy</td>\n",
       "      <td>NaN</td>\n",
       "      <td>NaN</td>\n",
       "    </tr>\n",
       "    <tr>\n",
       "      <th>4</th>\n",
       "      <td>5</td>\n",
       "      <td>I am a developer by profession</td>\n",
       "      <td>18-24 years old</td>\n",
       "      <td>Student, full-time</td>\n",
       "      <td>NaN</td>\n",
       "      <td>Apples</td>\n",
       "      <td>NaN</td>\n",
       "      <td>Secondary school (e.g. American high school, G...</td>\n",
       "      <td>Other online resources (e.g., videos, blogs, f...</td>\n",
       "      <td>Technical documentation;Blogs;Written Tutorial...</td>\n",
       "      <td>...</td>\n",
       "      <td>NaN</td>\n",
       "      <td>NaN</td>\n",
       "      <td>NaN</td>\n",
       "      <td>NaN</td>\n",
       "      <td>NaN</td>\n",
       "      <td>NaN</td>\n",
       "      <td>Too short</td>\n",
       "      <td>Easy</td>\n",
       "      <td>NaN</td>\n",
       "      <td>NaN</td>\n",
       "    </tr>\n",
       "  </tbody>\n",
       "</table>\n",
       "<p>5 rows × 114 columns</p>\n",
       "</div>"
      ],
      "text/plain": [
       "   ResponseId                      MainBranch                 Age  \\\n",
       "0           1  I am a developer by profession  Under 18 years old   \n",
       "1           2  I am a developer by profession     35-44 years old   \n",
       "2           3  I am a developer by profession     45-54 years old   \n",
       "3           4           I am learning to code     18-24 years old   \n",
       "4           5  I am a developer by profession     18-24 years old   \n",
       "\n",
       "            Employment RemoteWork   Check  \\\n",
       "0  Employed, full-time     Remote  Apples   \n",
       "1  Employed, full-time     Remote  Apples   \n",
       "2  Employed, full-time     Remote  Apples   \n",
       "3   Student, full-time        NaN  Apples   \n",
       "4   Student, full-time        NaN  Apples   \n",
       "\n",
       "                                    CodingActivities  \\\n",
       "0                                              Hobby   \n",
       "1  Hobby;Contribute to open-source projects;Other...   \n",
       "2  Hobby;Contribute to open-source projects;Other...   \n",
       "3                                                NaN   \n",
       "4                                                NaN   \n",
       "\n",
       "                                             EdLevel  \\\n",
       "0                          Primary/elementary school   \n",
       "1       Bachelor’s degree (B.A., B.S., B.Eng., etc.)   \n",
       "2    Master’s degree (M.A., M.S., M.Eng., MBA, etc.)   \n",
       "3  Some college/university study without earning ...   \n",
       "4  Secondary school (e.g. American high school, G...   \n",
       "\n",
       "                                           LearnCode  \\\n",
       "0                             Books / Physical media   \n",
       "1  Books / Physical media;Colleague;On the job tr...   \n",
       "2  Books / Physical media;Colleague;On the job tr...   \n",
       "3  Other online resources (e.g., videos, blogs, f...   \n",
       "4  Other online resources (e.g., videos, blogs, f...   \n",
       "\n",
       "                                     LearnCodeOnline  ... JobSatPoints_6  \\\n",
       "0                                                NaN  ...            NaN   \n",
       "1  Technical documentation;Blogs;Books;Written Tu...  ...            0.0   \n",
       "2  Technical documentation;Blogs;Books;Written Tu...  ...            NaN   \n",
       "3  Stack Overflow;How-to videos;Interactive tutorial  ...            NaN   \n",
       "4  Technical documentation;Blogs;Written Tutorial...  ...            NaN   \n",
       "\n",
       "  JobSatPoints_7 JobSatPoints_8 JobSatPoints_9 JobSatPoints_10  \\\n",
       "0            NaN            NaN            NaN             NaN   \n",
       "1            0.0            0.0            0.0             0.0   \n",
       "2            NaN            NaN            NaN             NaN   \n",
       "3            NaN            NaN            NaN             NaN   \n",
       "4            NaN            NaN            NaN             NaN   \n",
       "\n",
       "  JobSatPoints_11           SurveyLength SurveyEase ConvertedCompYearly JobSat  \n",
       "0             NaN                    NaN        NaN                 NaN    NaN  \n",
       "1             0.0                    NaN        NaN                 NaN    NaN  \n",
       "2             NaN  Appropriate in length       Easy                 NaN    NaN  \n",
       "3             NaN               Too long       Easy                 NaN    NaN  \n",
       "4             NaN              Too short       Easy                 NaN    NaN  \n",
       "\n",
       "[5 rows x 114 columns]"
      ]
     },
     "execution_count": 2,
     "metadata": {},
     "output_type": "execute_result"
    }
   ],
   "source": [
    "# Import necessary libraries\n",
    "import pandas as pd\n",
    "\n",
    "# Load the Stack Overflow survey data\n",
    "dataset_url = \"https://cf-courses-data.s3.us.cloud-object-storage.appdomain.cloud/n01PQ9pSmiRX6520flujwQ/survey-data.csv\"\n",
    "df = pd.read_csv(dataset_url)\n",
    "\n",
    "# Display the first few rows\n",
    "df.head()\n"
   ]
  },
  {
   "cell_type": "markdown",
   "metadata": {},
   "source": [
    "#### 2. Explore the Dataset\n"
   ]
  },
  {
   "cell_type": "markdown",
   "metadata": {},
   "source": [
    "<h5>2.1 Summarize the dataset by displaying the column data types, counts, and missing values.</h5>\n"
   ]
  },
  {
   "cell_type": "code",
   "execution_count": 5,
   "metadata": {},
   "outputs": [
    {
     "name": "stdout",
     "output_type": "stream",
     "text": [
      "The data set has 65437 rows and 114 columns\n",
      "Column ResponseId contains data with int64 type and has 0 missing values\n",
      "Column MainBranch contains data with object type and has 0 missing values\n",
      "Column Age contains data with object type and has 0 missing values\n",
      "Column Employment contains data with object type and has 0 missing values\n",
      "Column RemoteWork contains data with object type and has 10631 missing values\n",
      "Column Check contains data with object type and has 0 missing values\n",
      "Column CodingActivities contains data with object type and has 10971 missing values\n",
      "Column EdLevel contains data with object type and has 4653 missing values\n",
      "Column LearnCode contains data with object type and has 4949 missing values\n",
      "Column LearnCodeOnline contains data with object type and has 16200 missing values\n",
      "Column TechDoc contains data with object type and has 24540 missing values\n",
      "Column YearsCode contains data with object type and has 5568 missing values\n",
      "Column YearsCodePro contains data with object type and has 13827 missing values\n",
      "Column DevType contains data with object type and has 5992 missing values\n",
      "Column OrgSize contains data with object type and has 17957 missing values\n",
      "Column PurchaseInfluence contains data with object type and has 18031 missing values\n",
      "Column BuyNewTool contains data with object type and has 20256 missing values\n",
      "Column BuildvsBuy contains data with object type and has 22079 missing values\n",
      "Column TechEndorse contains data with object type and has 21769 missing values\n",
      "Column Country contains data with object type and has 6507 missing values\n",
      "Column Currency contains data with object type and has 18753 missing values\n",
      "Column CompTotal contains data with float64 type and has 31697 missing values\n",
      "Column LanguageHaveWorkedWith contains data with object type and has 5692 missing values\n",
      "Column LanguageWantToWorkWith contains data with object type and has 9685 missing values\n",
      "Column LanguageAdmired contains data with object type and has 14565 missing values\n",
      "Column DatabaseHaveWorkedWith contains data with object type and has 15183 missing values\n",
      "Column DatabaseWantToWorkWith contains data with object type and has 22879 missing values\n",
      "Column DatabaseAdmired contains data with object type and has 26880 missing values\n",
      "Column PlatformHaveWorkedWith contains data with object type and has 23071 missing values\n",
      "Column PlatformWantToWorkWith contains data with object type and has 30905 missing values\n",
      "Column PlatformAdmired contains data with object type and has 34060 missing values\n",
      "Column WebframeHaveWorkedWith contains data with object type and has 20276 missing values\n",
      "Column WebframeWantToWorkWith contains data with object type and has 26902 missing values\n",
      "Column WebframeAdmired contains data with object type and has 30494 missing values\n",
      "Column EmbeddedHaveWorkedWith contains data with object type and has 43223 missing values\n",
      "Column EmbeddedWantToWorkWith contains data with object type and has 47837 missing values\n",
      "Column EmbeddedAdmired contains data with object type and has 48704 missing values\n",
      "Column MiscTechHaveWorkedWith contains data with object type and has 25994 missing values\n",
      "Column MiscTechWantToWorkWith contains data with object type and has 32473 missing values\n",
      "Column MiscTechAdmired contains data with object type and has 35841 missing values\n",
      "Column ToolsTechHaveWorkedWith contains data with object type and has 12955 missing values\n",
      "Column ToolsTechWantToWorkWith contains data with object type and has 19353 missing values\n",
      "Column ToolsTechAdmired contains data with object type and has 21440 missing values\n",
      "Column NEWCollabToolsHaveWorkedWith contains data with object type and has 7845 missing values\n",
      "Column NEWCollabToolsWantToWorkWith contains data with object type and has 13350 missing values\n",
      "Column NEWCollabToolsAdmired contains data with object type and has 14726 missing values\n",
      "Column OpSysPersonal use contains data with object type and has 7263 missing values\n",
      "Column OpSysProfessional use contains data with object type and has 12464 missing values\n",
      "Column OfficeStackAsyncHaveWorkedWith contains data with object type and has 17344 missing values\n",
      "Column OfficeStackAsyncWantToWorkWith contains data with object type and has 26471 missing values\n",
      "Column OfficeStackAsyncAdmired contains data with object type and has 28233 missing values\n",
      "Column OfficeStackSyncHaveWorkedWith contains data with object type and has 9892 missing values\n",
      "Column OfficeStackSyncWantToWorkWith contains data with object type and has 18726 missing values\n",
      "Column OfficeStackSyncAdmired contains data with object type and has 20725 missing values\n",
      "Column AISearchDevHaveWorkedWith contains data with object type and has 20984 missing values\n",
      "Column AISearchDevWantToWorkWith contains data with object type and has 28736 missing values\n",
      "Column AISearchDevAdmired contains data with object type and has 29894 missing values\n",
      "Column NEWSOSites contains data with object type and has 5151 missing values\n",
      "Column SOVisitFreq contains data with object type and has 5901 missing values\n",
      "Column SOAccount contains data with object type and has 5877 missing values\n",
      "Column SOPartFreq contains data with object type and has 20200 missing values\n",
      "Column SOHow contains data with object type and has 6475 missing values\n",
      "Column SOComm contains data with object type and has 6274 missing values\n",
      "Column AISelect contains data with object type and has 4530 missing values\n",
      "Column AISent contains data with object type and has 19564 missing values\n",
      "Column AIBen contains data with object type and has 28543 missing values\n",
      "Column AIAcc contains data with object type and has 28135 missing values\n",
      "Column AIComplex contains data with object type and has 28416 missing values\n",
      "Column AIToolCurrently Using contains data with object type and has 30365 missing values\n",
      "Column AIToolInterested in Using contains data with object type and has 34746 missing values\n",
      "Column AIToolNot interested in Using contains data with object type and has 41023 missing values\n",
      "Column AINextMuch more integrated contains data with object type and has 51999 missing values\n",
      "Column AINextNo change contains data with object type and has 52939 missing values\n",
      "Column AINextMore integrated contains data with object type and has 41009 missing values\n",
      "Column AINextLess integrated contains data with object type and has 63082 missing values\n",
      "Column AINextMuch less integrated contains data with object type and has 64289 missing values\n",
      "Column AIThreat contains data with object type and has 20748 missing values\n",
      "Column AIEthics contains data with object type and has 23889 missing values\n",
      "Column AIChallenges contains data with object type and has 27906 missing values\n",
      "Column TBranch contains data with object type and has 20960 missing values\n",
      "Column ICorPM contains data with object type and has 35636 missing values\n",
      "Column WorkExp contains data with float64 type and has 35779 missing values\n",
      "Column Knowledge_1 contains data with object type and has 36773 missing values\n",
      "Column Knowledge_2 contains data with object type and has 37416 missing values\n",
      "Column Knowledge_3 contains data with object type and has 37342 missing values\n",
      "Column Knowledge_4 contains data with object type and has 37407 missing values\n",
      "Column Knowledge_5 contains data with object type and has 37557 missing values\n",
      "Column Knowledge_6 contains data with object type and has 37573 missing values\n",
      "Column Knowledge_7 contains data with object type and has 37659 missing values\n",
      "Column Knowledge_8 contains data with object type and has 37679 missing values\n",
      "Column Knowledge_9 contains data with object type and has 37802 missing values\n",
      "Column Frequency_1 contains data with object type and has 37068 missing values\n",
      "Column Frequency_2 contains data with object type and has 37073 missing values\n",
      "Column Frequency_3 contains data with object type and has 37727 missing values\n",
      "Column TimeSearching contains data with object type and has 36526 missing values\n",
      "Column TimeAnswering contains data with object type and has 36593 missing values\n",
      "Column Frustration contains data with object type and has 37186 missing values\n",
      "Column ProfessionalTech contains data with object type and has 37673 missing values\n",
      "Column ProfessionalCloud contains data with object type and has 36946 missing values\n",
      "Column ProfessionalQuestion contains data with object type and has 36630 missing values\n",
      "Column Industry contains data with object type and has 36579 missing values\n",
      "Column JobSatPoints_1 contains data with float64 type and has 36113 missing values\n",
      "Column JobSatPoints_4 contains data with float64 type and has 36044 missing values\n",
      "Column JobSatPoints_5 contains data with float64 type and has 36026 missing values\n",
      "Column JobSatPoints_6 contains data with float64 type and has 35987 missing values\n",
      "Column JobSatPoints_7 contains data with float64 type and has 35989 missing values\n",
      "Column JobSatPoints_8 contains data with float64 type and has 35981 missing values\n",
      "Column JobSatPoints_9 contains data with float64 type and has 35981 missing values\n",
      "Column JobSatPoints_10 contains data with float64 type and has 35987 missing values\n",
      "Column JobSatPoints_11 contains data with float64 type and has 35992 missing values\n",
      "Column SurveyLength contains data with object type and has 9255 missing values\n",
      "Column SurveyEase contains data with object type and has 9199 missing values\n",
      "Column ConvertedCompYearly contains data with float64 type and has 42002 missing values\n",
      "Column JobSat contains data with float64 type and has 36311 missing values\n"
     ]
    }
   ],
   "source": [
    "# Write your code here\n",
    "missing_values = df.isnull()\n",
    "\n",
    "print(f'The data set has {df.shape[0]} rows and {df.shape[1]} columns')\n",
    "\n",
    "for column in df.columns.tolist():\n",
    "    print(f'Column {column} contains data with {df[column].dtype} type and has {missing_values[column].sum()} missing values')"
   ]
  },
  {
   "cell_type": "markdown",
   "metadata": {},
   "source": [
    "<h5>2.2 Generate basic statistics for numerical columns.</h5>\n"
   ]
  },
  {
   "cell_type": "code",
   "execution_count": 11,
   "metadata": {},
   "outputs": [
    {
     "data": {
      "text/html": [
       "<div>\n",
       "<style scoped>\n",
       "    .dataframe tbody tr th:only-of-type {\n",
       "        vertical-align: middle;\n",
       "    }\n",
       "\n",
       "    .dataframe tbody tr th {\n",
       "        vertical-align: top;\n",
       "    }\n",
       "\n",
       "    .dataframe thead th {\n",
       "        text-align: right;\n",
       "    }\n",
       "</style>\n",
       "<table border=\"1\" class=\"dataframe\">\n",
       "  <thead>\n",
       "    <tr style=\"text-align: right;\">\n",
       "      <th></th>\n",
       "      <th>ResponseId</th>\n",
       "      <th>CompTotal</th>\n",
       "      <th>WorkExp</th>\n",
       "      <th>JobSatPoints_1</th>\n",
       "      <th>JobSatPoints_4</th>\n",
       "      <th>JobSatPoints_5</th>\n",
       "      <th>JobSatPoints_6</th>\n",
       "      <th>JobSatPoints_7</th>\n",
       "      <th>JobSatPoints_8</th>\n",
       "      <th>JobSatPoints_9</th>\n",
       "      <th>JobSatPoints_10</th>\n",
       "      <th>JobSatPoints_11</th>\n",
       "      <th>ConvertedCompYearly</th>\n",
       "      <th>JobSat</th>\n",
       "    </tr>\n",
       "  </thead>\n",
       "  <tbody>\n",
       "    <tr>\n",
       "      <th>count</th>\n",
       "      <td>65437.000000</td>\n",
       "      <td>3.374000e+04</td>\n",
       "      <td>29658.000000</td>\n",
       "      <td>29324.000000</td>\n",
       "      <td>29393.000000</td>\n",
       "      <td>29411.000000</td>\n",
       "      <td>29450.000000</td>\n",
       "      <td>29448.00000</td>\n",
       "      <td>29456.000000</td>\n",
       "      <td>29456.000000</td>\n",
       "      <td>29450.000000</td>\n",
       "      <td>29445.000000</td>\n",
       "      <td>2.343500e+04</td>\n",
       "      <td>29126.000000</td>\n",
       "    </tr>\n",
       "    <tr>\n",
       "      <th>mean</th>\n",
       "      <td>32719.000000</td>\n",
       "      <td>2.963841e+145</td>\n",
       "      <td>11.466957</td>\n",
       "      <td>18.581094</td>\n",
       "      <td>7.522140</td>\n",
       "      <td>10.060857</td>\n",
       "      <td>24.343232</td>\n",
       "      <td>22.96522</td>\n",
       "      <td>20.278165</td>\n",
       "      <td>16.169432</td>\n",
       "      <td>10.955713</td>\n",
       "      <td>9.953948</td>\n",
       "      <td>8.615529e+04</td>\n",
       "      <td>6.935041</td>\n",
       "    </tr>\n",
       "    <tr>\n",
       "      <th>std</th>\n",
       "      <td>18890.179119</td>\n",
       "      <td>5.444117e+147</td>\n",
       "      <td>9.168709</td>\n",
       "      <td>25.966221</td>\n",
       "      <td>18.422661</td>\n",
       "      <td>21.833836</td>\n",
       "      <td>27.089360</td>\n",
       "      <td>27.01774</td>\n",
       "      <td>26.108110</td>\n",
       "      <td>24.845032</td>\n",
       "      <td>22.906263</td>\n",
       "      <td>21.775652</td>\n",
       "      <td>1.867570e+05</td>\n",
       "      <td>2.088259</td>\n",
       "    </tr>\n",
       "    <tr>\n",
       "      <th>min</th>\n",
       "      <td>1.000000</td>\n",
       "      <td>0.000000e+00</td>\n",
       "      <td>0.000000</td>\n",
       "      <td>0.000000</td>\n",
       "      <td>0.000000</td>\n",
       "      <td>0.000000</td>\n",
       "      <td>0.000000</td>\n",
       "      <td>0.00000</td>\n",
       "      <td>0.000000</td>\n",
       "      <td>0.000000</td>\n",
       "      <td>0.000000</td>\n",
       "      <td>0.000000</td>\n",
       "      <td>1.000000e+00</td>\n",
       "      <td>0.000000</td>\n",
       "    </tr>\n",
       "    <tr>\n",
       "      <th>25%</th>\n",
       "      <td>16360.000000</td>\n",
       "      <td>6.000000e+04</td>\n",
       "      <td>4.000000</td>\n",
       "      <td>0.000000</td>\n",
       "      <td>0.000000</td>\n",
       "      <td>0.000000</td>\n",
       "      <td>0.000000</td>\n",
       "      <td>0.00000</td>\n",
       "      <td>0.000000</td>\n",
       "      <td>0.000000</td>\n",
       "      <td>0.000000</td>\n",
       "      <td>0.000000</td>\n",
       "      <td>3.271200e+04</td>\n",
       "      <td>6.000000</td>\n",
       "    </tr>\n",
       "    <tr>\n",
       "      <th>50%</th>\n",
       "      <td>32719.000000</td>\n",
       "      <td>1.100000e+05</td>\n",
       "      <td>9.000000</td>\n",
       "      <td>10.000000</td>\n",
       "      <td>0.000000</td>\n",
       "      <td>0.000000</td>\n",
       "      <td>20.000000</td>\n",
       "      <td>15.00000</td>\n",
       "      <td>10.000000</td>\n",
       "      <td>5.000000</td>\n",
       "      <td>0.000000</td>\n",
       "      <td>0.000000</td>\n",
       "      <td>6.500000e+04</td>\n",
       "      <td>7.000000</td>\n",
       "    </tr>\n",
       "    <tr>\n",
       "      <th>75%</th>\n",
       "      <td>49078.000000</td>\n",
       "      <td>2.500000e+05</td>\n",
       "      <td>16.000000</td>\n",
       "      <td>22.000000</td>\n",
       "      <td>5.000000</td>\n",
       "      <td>10.000000</td>\n",
       "      <td>30.000000</td>\n",
       "      <td>30.00000</td>\n",
       "      <td>25.000000</td>\n",
       "      <td>20.000000</td>\n",
       "      <td>10.000000</td>\n",
       "      <td>10.000000</td>\n",
       "      <td>1.079715e+05</td>\n",
       "      <td>8.000000</td>\n",
       "    </tr>\n",
       "    <tr>\n",
       "      <th>max</th>\n",
       "      <td>65437.000000</td>\n",
       "      <td>1.000000e+150</td>\n",
       "      <td>50.000000</td>\n",
       "      <td>100.000000</td>\n",
       "      <td>100.000000</td>\n",
       "      <td>100.000000</td>\n",
       "      <td>100.000000</td>\n",
       "      <td>100.00000</td>\n",
       "      <td>100.000000</td>\n",
       "      <td>100.000000</td>\n",
       "      <td>100.000000</td>\n",
       "      <td>100.000000</td>\n",
       "      <td>1.625660e+07</td>\n",
       "      <td>10.000000</td>\n",
       "    </tr>\n",
       "  </tbody>\n",
       "</table>\n",
       "</div>"
      ],
      "text/plain": [
       "         ResponseId      CompTotal       WorkExp  JobSatPoints_1  \\\n",
       "count  65437.000000   3.374000e+04  29658.000000    29324.000000   \n",
       "mean   32719.000000  2.963841e+145     11.466957       18.581094   \n",
       "std    18890.179119  5.444117e+147      9.168709       25.966221   \n",
       "min        1.000000   0.000000e+00      0.000000        0.000000   \n",
       "25%    16360.000000   6.000000e+04      4.000000        0.000000   \n",
       "50%    32719.000000   1.100000e+05      9.000000       10.000000   \n",
       "75%    49078.000000   2.500000e+05     16.000000       22.000000   \n",
       "max    65437.000000  1.000000e+150     50.000000      100.000000   \n",
       "\n",
       "       JobSatPoints_4  JobSatPoints_5  JobSatPoints_6  JobSatPoints_7  \\\n",
       "count    29393.000000    29411.000000    29450.000000     29448.00000   \n",
       "mean         7.522140       10.060857       24.343232        22.96522   \n",
       "std         18.422661       21.833836       27.089360        27.01774   \n",
       "min          0.000000        0.000000        0.000000         0.00000   \n",
       "25%          0.000000        0.000000        0.000000         0.00000   \n",
       "50%          0.000000        0.000000       20.000000        15.00000   \n",
       "75%          5.000000       10.000000       30.000000        30.00000   \n",
       "max        100.000000      100.000000      100.000000       100.00000   \n",
       "\n",
       "       JobSatPoints_8  JobSatPoints_9  JobSatPoints_10  JobSatPoints_11  \\\n",
       "count    29456.000000    29456.000000     29450.000000     29445.000000   \n",
       "mean        20.278165       16.169432        10.955713         9.953948   \n",
       "std         26.108110       24.845032        22.906263        21.775652   \n",
       "min          0.000000        0.000000         0.000000         0.000000   \n",
       "25%          0.000000        0.000000         0.000000         0.000000   \n",
       "50%         10.000000        5.000000         0.000000         0.000000   \n",
       "75%         25.000000       20.000000        10.000000        10.000000   \n",
       "max        100.000000      100.000000       100.000000       100.000000   \n",
       "\n",
       "       ConvertedCompYearly        JobSat  \n",
       "count         2.343500e+04  29126.000000  \n",
       "mean          8.615529e+04      6.935041  \n",
       "std           1.867570e+05      2.088259  \n",
       "min           1.000000e+00      0.000000  \n",
       "25%           3.271200e+04      6.000000  \n",
       "50%           6.500000e+04      7.000000  \n",
       "75%           1.079715e+05      8.000000  \n",
       "max           1.625660e+07     10.000000  "
      ]
     },
     "execution_count": 11,
     "metadata": {},
     "output_type": "execute_result"
    }
   ],
   "source": [
    "# Write your code here\n",
    "df.describe()"
   ]
  },
  {
   "cell_type": "markdown",
   "metadata": {},
   "source": [
    "### 3. Identifying and Removing Inconsistencies\n"
   ]
  },
  {
   "cell_type": "markdown",
   "metadata": {},
   "source": [
    "<h5>3.1 Identify inconsistent or irrelevant entries in specific columns (e.g., Country).</h5>\n"
   ]
  },
  {
   "cell_type": "code",
   "execution_count": 15,
   "metadata": {},
   "outputs": [
    {
     "data": {
      "text/plain": [
       "array(['United States of America',\n",
       "       'United Kingdom of Great Britain and Northern Ireland', 'Canada',\n",
       "       'Norway', 'Uzbekistan', 'Serbia', 'Poland', 'Philippines',\n",
       "       'Bulgaria', 'Switzerland', 'India', 'Germany', 'Ireland', 'Italy',\n",
       "       'Ukraine', 'Australia', 'Brazil', 'Japan', 'Austria',\n",
       "       'Iran, Islamic Republic of...', 'France', 'Saudi Arabia',\n",
       "       'Romania', 'Turkey', 'Nepal', 'Algeria', 'Sweden', 'Netherlands',\n",
       "       'Croatia', 'Pakistan', 'Czech Republic',\n",
       "       'Republic of North Macedonia', 'Finland', 'Slovakia',\n",
       "       'Russian Federation', 'Greece', 'Israel', 'Belgium', 'Mexico',\n",
       "       'United Republic of Tanzania', 'Hungary', 'Argentina', 'Portugal',\n",
       "       'Sri Lanka', 'Latvia', 'China', 'Singapore', 'Lebanon', 'Spain',\n",
       "       'South Africa', 'Lithuania', 'Viet Nam', 'Dominican Republic',\n",
       "       'Indonesia', 'Kosovo', 'Morocco', 'Taiwan', 'Georgia',\n",
       "       'San Marino', 'Tunisia', 'Bangladesh', 'Nigeria', 'Liechtenstein',\n",
       "       'Denmark', 'Ecuador', 'Malaysia', 'Albania', 'Azerbaijan', 'Chile',\n",
       "       'Ghana', 'Peru', 'Bolivia', 'Egypt', 'Luxembourg', 'Montenegro',\n",
       "       'Cyprus', 'Paraguay', 'Kazakhstan', 'Slovenia', 'Jordan',\n",
       "       'Venezuela, Bolivarian Republic of...', 'Costa Rica', 'Jamaica',\n",
       "       'Thailand', 'Nicaragua', 'Myanmar', 'Republic of Korea', 'Rwanda',\n",
       "       'Bosnia and Herzegovina', 'Benin', 'El Salvador', 'Zimbabwe',\n",
       "       'Afghanistan', 'Estonia', 'Malta', 'Uruguay', 'Belarus',\n",
       "       'Colombia', 'Republic of Moldova', 'Isle of Man', 'Nomadic',\n",
       "       'New Zealand', 'Palestine', 'Armenia', 'United Arab Emirates',\n",
       "       'Maldives', 'Ethiopia', 'Fiji', 'Guatemala', 'Uganda',\n",
       "       'Turkmenistan', 'Mauritius', 'Kenya', 'Cuba', 'Gabon', 'Bahamas',\n",
       "       'South Korea', 'Iceland', 'Honduras', 'Hong Kong (S.A.R.)',\n",
       "       \"Lao People's Democratic Republic\", 'Mongolia', 'Cambodia',\n",
       "       'Madagascar', 'Angola', 'Democratic Republic of the Congo',\n",
       "       'Syrian Arab Republic', 'Iraq', 'Namibia', 'Senegal', 'Kyrgyzstan',\n",
       "       'Zambia', 'Swaziland', \"Côte d'Ivoire\", 'Kuwait', 'Tajikistan',\n",
       "       'Burundi', 'Trinidad and Tobago', 'Mauritania', 'Sierra Leone',\n",
       "       'Panama', 'Somalia', 'North Korea', 'Dominica', 'Guyana', 'Togo',\n",
       "       'Oman', 'Barbados', 'Andorra',\n",
       "       \"Democratic People's Republic of Korea\", 'Qatar', 'Sudan',\n",
       "       'Cameroon', 'Papua New Guinea', 'Bahrain', 'Yemen', 'Malawi',\n",
       "       'Burkina Faso', 'Congo, Republic of the...', 'Botswana',\n",
       "       'Guinea-Bissau', 'Mozambique', 'Central African Republic',\n",
       "       'Equatorial Guinea', 'Suriname', 'Belize',\n",
       "       'Libyan Arab Jamahiriya', 'Cape Verde', 'Brunei Darussalam',\n",
       "       'Bhutan', 'Guinea', 'Niger', 'Antigua and Barbuda', 'Mali',\n",
       "       'Samoa', 'Lesotho', 'Saint Kitts and Nevis', 'Monaco',\n",
       "       'Micronesia, Federated States of...', 'Haiti', nan, 'Nauru',\n",
       "       'Liberia', 'Chad', 'Djibouti', 'Solomon Islands'], dtype=object)"
      ]
     },
     "execution_count": 15,
     "metadata": {},
     "output_type": "execute_result"
    }
   ],
   "source": [
    "# Write your code here\n",
    "df[\"Country\"].unique()"
   ]
  },
  {
   "cell_type": "markdown",
   "metadata": {},
   "source": [
    "<h5>3.2 Standardize entries in columns like Country or EdLevel by mapping inconsistent values to a consistent format.</h5>\n"
   ]
  },
  {
   "cell_type": "code",
   "execution_count": 16,
   "metadata": {},
   "outputs": [
    {
     "data": {
      "text/plain": [
       "array(['Primary/elementary school',\n",
       "       'Bachelor’s degree (B.A., B.S., B.Eng., etc.)',\n",
       "       'Master’s degree (M.A., M.S., M.Eng., MBA, etc.)',\n",
       "       'Some college/university study without earning a degree',\n",
       "       'Secondary school (e.g. American high school, German Realschule or Gymnasium, etc.)',\n",
       "       'Professional degree (JD, MD, Ph.D, Ed.D, etc.)',\n",
       "       'Associate degree (A.A., A.S., etc.)', 'Something else', nan],\n",
       "      dtype=object)"
      ]
     },
     "execution_count": 16,
     "metadata": {},
     "output_type": "execute_result"
    }
   ],
   "source": [
    "## Write your code here\n",
    "df[\"EdLevel\"].unique()"
   ]
  },
  {
   "cell_type": "markdown",
   "metadata": {},
   "source": [
    "### 4. Encoding Categorical Variables\n"
   ]
  },
  {
   "cell_type": "markdown",
   "metadata": {},
   "source": [
    "<h5>4.1 Encode the Employment column using one-hot encoding.</h5>\n"
   ]
  },
  {
   "cell_type": "code",
   "execution_count": null,
   "metadata": {},
   "outputs": [],
   "source": [
    "## Write your code here\n",
    "df[\"Employment\"].unique()"
   ]
  },
  {
   "cell_type": "markdown",
   "metadata": {},
   "source": [
    "### 5. Handling Missing Values\n"
   ]
  },
  {
   "cell_type": "markdown",
   "metadata": {},
   "source": [
    "<h5>5.1 Identify columns with the highest number of missing values.</h5>\n"
   ]
  },
  {
   "cell_type": "code",
   "execution_count": 23,
   "metadata": {},
   "outputs": [
    {
     "data": {
      "text/plain": [
       "AINextMuch less integrated       64289\n",
       "AINextLess integrated            63082\n",
       "AINextNo change                  52939\n",
       "AINextMuch more integrated       51999\n",
       "EmbeddedAdmired                  48704\n",
       "EmbeddedWantToWorkWith           47837\n",
       "EmbeddedHaveWorkedWith           43223\n",
       "ConvertedCompYearly              42002\n",
       "AIToolNot interested in Using    41023\n",
       "AINextMore integrated            41009\n",
       "dtype: int64"
      ]
     },
     "execution_count": 23,
     "metadata": {},
     "output_type": "execute_result"
    }
   ],
   "source": [
    "## Write your code here\n",
    "missing_data = df.isnull().sum()\n",
    "missing_data.sort_values(ascending=False, inplace=True)\n",
    "missing_data.head(10)"
   ]
  },
  {
   "cell_type": "markdown",
   "metadata": {},
   "source": [
    "<h5>5.2 Impute missing values in numerical columns (e.g., `ConvertedCompYearly`) with the mean or median.</h5>\n"
   ]
  },
  {
   "cell_type": "code",
   "execution_count": 26,
   "metadata": {},
   "outputs": [
    {
     "data": {
      "text/plain": [
       "np.int64(0)"
      ]
     },
     "execution_count": 26,
     "metadata": {},
     "output_type": "execute_result"
    }
   ],
   "source": [
    "## Write your code here\n",
    "df['ConvertedCompYearly'] = df['ConvertedCompYearly'].fillna(df['ConvertedCompYearly'].mean())\n",
    "df['ConvertedCompYearly'].isnull().sum()"
   ]
  },
  {
   "cell_type": "markdown",
   "metadata": {},
   "source": [
    "<h5>5.3 Impute missing values in categorical columns (e.g., `RemoteWork`) with the most frequent value.</h5>\n"
   ]
  },
  {
   "cell_type": "code",
   "execution_count": 27,
   "metadata": {},
   "outputs": [
    {
     "data": {
      "text/plain": [
       "np.int64(0)"
      ]
     },
     "execution_count": 27,
     "metadata": {},
     "output_type": "execute_result"
    }
   ],
   "source": [
    "## Write your code here\n",
    "most_freq = df['RemoteWork'].value_counts()\n",
    "df['RemoteWork'] = df['RemoteWork'].fillna(most_freq.idxmax())\n",
    "df['RemoteWork'].isnull().sum()"
   ]
  },
  {
   "cell_type": "markdown",
   "metadata": {},
   "source": [
    "### 6. Feature Scaling and Transformation\n"
   ]
  },
  {
   "cell_type": "markdown",
   "metadata": {},
   "source": [
    "<h5>6.1 Apply Min-Max Scaling to normalize the `ConvertedCompYearly` column.</h5>\n"
   ]
  },
  {
   "cell_type": "code",
   "execution_count": 32,
   "metadata": {},
   "outputs": [],
   "source": [
    "## Write your code here\n",
    "df['ConvertedCompYearly_Normalized'] = (df['ConvertedCompYearly'] - df['ConvertedCompYearly'].min())/(df['ConvertedCompYearly'].max() - df['ConvertedCompYearly'].min())"
   ]
  },
  {
   "cell_type": "markdown",
   "metadata": {},
   "source": [
    "<h5>6.2 Log-transform the ConvertedCompYearly column to reduce skewness.</h5>\n"
   ]
  },
  {
   "cell_type": "code",
   "execution_count": 34,
   "metadata": {},
   "outputs": [],
   "source": [
    "## Write your code here\n",
    "# !pip install numpy\n",
    "# import numpy as np\n",
    "\n",
    "df['ConvertedCompYearly_Log'] = np.log(df['ConvertedCompYearly'])"
   ]
  },
  {
   "cell_type": "markdown",
   "metadata": {},
   "source": [
    "### 7. Feature Engineering\n"
   ]
  },
  {
   "cell_type": "markdown",
   "metadata": {},
   "source": [
    "<h5>7.1 Create a new column `ExperienceLevel` based on the `YearsCodePro` column:</h5>\n"
   ]
  },
  {
   "cell_type": "code",
   "execution_count": 35,
   "metadata": {},
   "outputs": [
    {
     "data": {
      "text/plain": [
       "array([nan, '17', '27', '7', '11', '25', '12', '10', '3',\n",
       "       'Less than 1 year', '18', '37', '15', '20', '6', '2', '16', '8',\n",
       "       '14', '4', '45', '1', '24', '29', '5', '30', '26', '9', '33', '13',\n",
       "       '35', '23', '22', '31', '19', '21', '28', '34', '32', '40', '50',\n",
       "       '39', '44', '42', '41', '36', '38', 'More than 50 years', '43',\n",
       "       '47', '48', '46', '49'], dtype=object)"
      ]
     },
     "execution_count": 35,
     "metadata": {},
     "output_type": "execute_result"
    }
   ],
   "source": [
    "## Write your code here\n",
    "def clean_experience(x):\n",
    "    if pd.isna(x):\n",
    "        return np.nan\n",
    "    elif x == 'Less than 1 year':\n",
    "        return 0\n",
    "    elif x == 'More than 50 years':\n",
    "        return 51\n",
    "    else:\n",
    "        return int(x)\n",
    "\n",
    "# Apply cleaning\n",
    "df['YearsCodeNum'] = df['YearsCodePro'].apply(clean_experience)\n",
    "\n",
    "# Function to assign experience level\n",
    "def categorize_exp(years):\n",
    "    if pd.isna(years):\n",
    "        return np.nan\n",
    "    elif years <= 5:\n",
    "        return 'Beginner'\n",
    "    elif years <= 15:\n",
    "        return 'Used to'\n",
    "    elif years <= 15:\n",
    "        return 'Intermediary'\n",
    "    else:\n",
    "        return 'Pro'\n",
    "\n",
    "# Apply categorization\n",
    "df['ExpLvl'] = df['YearsCodeNum'].apply(categorize_exp)\n",
    "    "
   ]
  },
  {
   "cell_type": "markdown",
   "metadata": {},
   "source": [
    "### Summary\n"
   ]
  },
  {
   "cell_type": "markdown",
   "metadata": {},
   "source": [
    "In this lab, you:\n",
    "\n",
    "- Explored the dataset to identify inconsistencies and missing values.\n",
    "\n",
    "- Encoded categorical variables for analysis.\n",
    "\n",
    "- Handled missing values using imputation techniques.\n",
    "\n",
    "- Normalized and transformed numerical data to prepare it for analysis.\n",
    "\n",
    "- Engineered a new feature to enhance data interpretation.\n"
   ]
  },
  {
   "cell_type": "markdown",
   "metadata": {},
   "source": [
    "Copyright © IBM Corporation. All rights reserved.\n"
   ]
  }
 ],
 "metadata": {
  "kernelspec": {
   "display_name": "Python 3 (ipykernel)",
   "language": "python",
   "name": "python3"
  },
  "language_info": {
   "codemirror_mode": {
    "name": "ipython",
    "version": 3
   },
   "file_extension": ".py",
   "mimetype": "text/x-python",
   "name": "python",
   "nbconvert_exporter": "python",
   "pygments_lexer": "ipython3",
   "version": "3.12.8"
  },
  "prev_pub_hash": "1e8e234f19fd098e27b0518a87f18de690e1c51f1d3263d5690927d19971251e"
 },
 "nbformat": 4,
 "nbformat_minor": 4
}
